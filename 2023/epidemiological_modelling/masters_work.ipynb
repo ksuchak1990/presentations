{
 "cells": [
  {
   "cell_type": "markdown",
   "id": "ddff5030",
   "metadata": {
    "slideshow": {
     "slide_type": "slide"
    }
   },
   "source": [
    "# Modelling Processes on Networks\n",
    "\n",
    "## Exploiting Network Symmetries with the SIS Model\n",
    "\n",
    "### Keiran Suchak\n",
    "\n",
    "### 18/04/23"
   ]
  },
  {
   "cell_type": "markdown",
   "id": "40dbef3b",
   "metadata": {
    "slideshow": {
     "slide_type": "slide"
    }
   },
   "source": [
    "# Introduction"
   ]
  },
  {
   "cell_type": "markdown",
   "id": "868f667a",
   "metadata": {
    "slideshow": {
     "slide_type": "fragment"
    }
   },
   "source": [
    "* Using SIS model"
   ]
  },
  {
   "cell_type": "markdown",
   "id": "db6ad6a1",
   "metadata": {
    "slideshow": {
     "slide_type": "fragment"
    }
   },
   "source": [
    "* Developing novel approaches for equation-based modelling"
   ]
  },
  {
   "cell_type": "markdown",
   "id": "485abe95",
   "metadata": {
    "slideshow": {
     "slide_type": "fragment"
    }
   },
   "source": [
    "* Validated by individual-level simulation-based modelling"
   ]
  },
  {
   "cell_type": "markdown",
   "id": "a912496d",
   "metadata": {
    "slideshow": {
     "slide_type": "slide"
    }
   },
   "source": [
    "# Simple Network Structures"
   ]
  },
  {
   "cell_type": "markdown",
   "id": "aa5cfde1",
   "metadata": {
    "slideshow": {
     "slide_type": "subslide"
    }
   },
   "source": [
    "# Complete Networks\n",
    "\n",
    "$k_3$             |  $k_{10}$\n",
    ":-------------------------:|:-------------------------:\n",
    "![](./figures/k3_net.jpg)  |  ![](./figures/k10_net.jpg)"
   ]
  },
  {
   "cell_type": "markdown",
   "id": "049e922a",
   "metadata": {
    "slideshow": {
     "slide_type": "subslide"
    }
   },
   "source": [
    "## Star Networks\n",
    "\n",
    "$s_4$             |  $s_{10}$\n",
    ":-------------------------:|:-------------------------:\n",
    "![](./figures/s4_net.jpg)  |  ![](./figures/s10_net.jpg)"
   ]
  },
  {
   "cell_type": "markdown",
   "id": "65f91885",
   "metadata": {
    "slideshow": {
     "slide_type": "slide"
    }
   },
   "source": [
    "# Markov Chains"
   ]
  },
  {
   "cell_type": "markdown",
   "id": "b3a25f91",
   "metadata": {
    "slideshow": {
     "slide_type": "fragment"
    }
   },
   "source": [
    "Network Structure             |  Markov Chain\n",
    ":-------------------------:|:-------------------------:\n",
    "![](./figures/k3_net.jpg)  |  ![](./figures/mc_k3.jpg)"
   ]
  },
  {
   "cell_type": "markdown",
   "id": "e7a7a434",
   "metadata": {
    "slideshow": {
     "slide_type": "slide"
    }
   },
   "source": [
    "# Equation-based Representation"
   ]
  },
  {
   "cell_type": "markdown",
   "id": "68bfe1d9",
   "metadata": {
    "slideshow": {
     "slide_type": "subslide"
    }
   },
   "source": [
    "# Master equation\n",
    "\n",
    ">  A set of first-order differential equations describing the time evolution of the probability of a system occupying each of the possible states over time."
   ]
  },
  {
   "cell_type": "markdown",
   "id": "a57c608b",
   "metadata": {
    "slideshow": {
     "slide_type": "subslide"
    }
   },
   "source": [
    "# Example for $k_3$\n",
    "\n",
    "<img align=\"left\" src=\"figures/mc_k3.jpg\">\n",
    "\n",
    "\n",
    "\n",
    "$\\dot{p}_{000} = \\gamma(p_{100} + p_{010} + p_{001})$\n",
    "\n",
    "$\\dot{p}_{100} = \\gamma(p_{110} + p_{101}) − (2\\beta + \\gamma)p_{100}$\n",
    "\n",
    "$\\dot{p}_{010} = \\gamma(p_{110} + p_{011}) − (2\\beta + \\gamma)p_{010}$\n",
    "\n",
    "$\\dot{p}_{001} = \\gamma(p_{101} + p_{011}) − (2\\beta + \\gamma)p_{001}$\n",
    "\n",
    "$\\dot{p}_{110} = \\gamma p_{111} + \\beta (p_{100} + p_{010}) − 2 (\\beta + \\gamma) p_{110}$\n",
    "\n",
    "$\\dot{p}_{101} = \\gamma p_{111} + \\beta (p_{100} + p_{001}) − 2 (\\beta + \\gamma) p_{101}$\n",
    "\n",
    "$\\dot{p}_{011} = \\gamma p_{111} + \\beta (p_{010} + p_{001}) − 2 (\\beta + \\gamma) p_{011}$\n",
    "\n",
    "$\\dot{p}_{111} = 2\\beta (p_{110} + p_{101} + p_{011}) − 3\\gamma p_{111}$"
   ]
  },
  {
   "cell_type": "markdown",
   "id": "b734a6ac",
   "metadata": {
    "slideshow": {
     "slide_type": "subslide"
    }
   },
   "source": [
    "# Example for $s_4$\n",
    "\n",
    "<img align=\"center\" src=\"figures/s4_net.jpg\">\n",
    "\n",
    "* System of 16 equations"
   ]
  },
  {
   "cell_type": "markdown",
   "id": "8317381c",
   "metadata": {
    "slideshow": {
     "slide_type": "slide"
    }
   },
   "source": [
    "# Graph Automorphisms and Lumping"
   ]
  },
  {
   "cell_type": "markdown",
   "id": "7661d312",
   "metadata": {
    "slideshow": {
     "slide_type": "subslide"
    }
   },
   "source": [
    "# Graph Structure and Symmetry\n",
    "\n",
    "$k_3$             |  $s_4$\n",
    ":-------------------------:|:-------------------------:\n",
    "![](./figures/k3_net.jpg)  |  ![](./figures/s4_net.jpg)"
   ]
  },
  {
   "cell_type": "markdown",
   "id": "a01aa724",
   "metadata": {
    "slideshow": {
     "slide_type": "subslide"
    }
   },
   "source": [
    "# Lumping for $k_3$"
   ]
  },
  {
   "cell_type": "markdown",
   "id": "2af54397",
   "metadata": {
    "slideshow": {
     "slide_type": "fragment"
    }
   },
   "source": [
    "<img align=\"left\" src=\"figures/mc_k3.jpg\">\n",
    "\n",
    "\n",
    "$p_0 = p_{000}$\n",
    "\n",
    "$p_1 = p_{001} + p_{010} + p_{100}$\n",
    "\n",
    "$p_2 = p_{011} + p_{101} + p_{110}$\n",
    "\n",
    "$p_3 = p_{111}$"
   ]
  },
  {
   "cell_type": "markdown",
   "id": "6dcfe532",
   "metadata": {
    "slideshow": {
     "slide_type": "subslide"
    }
   },
   "source": [
    "# Lumped Markov Chain for $k_3$"
   ]
  },
  {
   "cell_type": "markdown",
   "id": "d46a120e",
   "metadata": {
    "slideshow": {
     "slide_type": "fragment"
    }
   },
   "source": [
    "![](./figures/mc_k3_lumped.jpg)\n",
    "\n",
    "$p_0 = p_{000}$\n",
    "\n",
    "$p_1 = p_{001} + p_{010} + p_{100}$\n",
    "\n",
    "$p_2 = p_{011} + p_{101} + p_{110}$\n",
    "\n",
    "$p_3 = p_{111}$"
   ]
  },
  {
   "cell_type": "markdown",
   "id": "37d19d8f",
   "metadata": {
    "slideshow": {
     "slide_type": "notes"
    }
   },
   "source": [
    "* reduced $2^N$ equations down to $N+1$ equations"
   ]
  },
  {
   "cell_type": "markdown",
   "id": "00022f81",
   "metadata": {
    "slideshow": {
     "slide_type": "subslide"
    }
   },
   "source": [
    "# Lumped Markov Chain for $s_4$"
   ]
  },
  {
   "cell_type": "markdown",
   "id": "00d6003d",
   "metadata": {
    "slideshow": {
     "slide_type": "fragment"
    }
   },
   "source": [
    "<img align=\"left\" src=\"./figures/mc_s4_lumped.jpg\">\n",
    "\n",
    "\n",
    "$\\dot{p}_0 = \\gamma (p_1 + p_2)$\n",
    "\n",
    "$\\dot{p}_1 = \\gamma p_3 − (3\\beta + \\gamma) p_1$\n",
    "\n",
    "$\\dot{p}_2 = \\gamma (p_3 + 2p_4) − (\\beta + \\gamma) p_2$\n",
    "\n",
    "$\\dot{p}_3 = \\beta (3p_1 + p_2) + 2\\gamma p_5 − 2 (\\beta + \\gamma) p_3$\n",
    "\n",
    "$\\dot{p}_4 = \\gamma (p_5 + p_6) − 2 (\\beta + \\gamma) p_4$\n",
    "\n",
    "$\\dot{p}_5 = 2\\betaβ (p_3 + p_4) + 3\\gamma p_7 − (\\beta + 3\\gamma) p_5$\n",
    "\n",
    "$\\dot{p}_6 = \\gamma p_7 − (\\beta + 3\\gamma) p_6$\n",
    "\n",
    "$\\dot{p}_7 = \\beta (p_5 + 3p_6) − 4\\gamma p_7$"
   ]
  },
  {
   "cell_type": "markdown",
   "id": "2b13c42b",
   "metadata": {
    "slideshow": {
     "slide_type": "notes"
    }
   },
   "source": [
    "* reduced $2^N$ equations down to $2N$ equations"
   ]
  },
  {
   "cell_type": "markdown",
   "id": "0e344753",
   "metadata": {
    "slideshow": {
     "slide_type": "slide"
    }
   },
   "source": [
    "# Application to (slightly) more Complex Networks"
   ]
  },
  {
   "cell_type": "markdown",
   "id": "582363e2",
   "metadata": {
    "slideshow": {
     "slide_type": "subslide"
    }
   },
   "source": [
    "<img align=\"left\" src=\"./figures/sk5_net.jpg\">"
   ]
  },
  {
   "cell_type": "markdown",
   "id": "e296c195",
   "metadata": {
    "slideshow": {
     "slide_type": "fragment"
    }
   },
   "source": [
    "* Master equation: system of 32 differential equations"
   ]
  },
  {
   "cell_type": "markdown",
   "id": "b2eb7b4a",
   "metadata": {
    "slideshow": {
     "slide_type": "fragment"
    }
   },
   "source": [
    "* Lumping can reduce down to 18 equations"
   ]
  },
  {
   "cell_type": "markdown",
   "id": "51cd6bb4",
   "metadata": {
    "slideshow": {
     "slide_type": "slide"
    }
   },
   "source": [
    "# Conclusion and Limitations"
   ]
  },
  {
   "cell_type": "markdown",
   "id": "ce1b5009",
   "metadata": {
    "slideshow": {
     "slide_type": "fragment"
    }
   },
   "source": [
    "* We can incorporate network structures into equations-based methods"
   ]
  },
  {
   "cell_type": "markdown",
   "id": "fb736fa5",
   "metadata": {
    "slideshow": {
     "slide_type": "fragment"
    }
   },
   "source": [
    "* We can use symmetry in network structures to simplify equation-based methods"
   ]
  },
  {
   "cell_type": "markdown",
   "id": "f7468182",
   "metadata": {
    "slideshow": {
     "slide_type": "fragment"
    }
   },
   "source": [
    "### Shortcoming"
   ]
  },
  {
   "cell_type": "markdown",
   "id": "298acb5e",
   "metadata": {
    "slideshow": {
     "slide_type": "fragment"
    }
   },
   "source": [
    "* Treating individuals as homogeneous"
   ]
  },
  {
   "cell_type": "markdown",
   "id": "bdd95d27",
   "metadata": {
    "slideshow": {
     "slide_type": "slide"
    }
   },
   "source": [
    "# Results"
   ]
  },
  {
   "cell_type": "markdown",
   "id": "05895e1c",
   "metadata": {
    "slideshow": {
     "slide_type": "subslide"
    }
   },
   "source": [
    "$p_0$             |  $p_1$\n",
    ":-------------------------:|:-------------------------:\n",
    "![](./figures/sis_k3_0.jpg)  |  ![](./figures/sis_k3_1.jpg)\n",
    "$p_2$             |  $p_3$\n",
    "![](./figures/sis_k3_2.jpg)  |  ![](./figures/sis_k3_3.jpg)"
   ]
  }
 ],
 "metadata": {
  "celltoolbar": "Slideshow",
  "kernelspec": {
   "display_name": "Python 3",
   "language": "python",
   "name": "python3"
  },
  "language_info": {
   "codemirror_mode": {
    "name": "ipython",
    "version": 3
   },
   "file_extension": ".py",
   "mimetype": "text/x-python",
   "name": "python",
   "nbconvert_exporter": "python",
   "pygments_lexer": "ipython3",
   "version": "3.9.4"
  },
  "rise": {
   "enable_chalkboard": true
  }
 },
 "nbformat": 4,
 "nbformat_minor": 5
}
