{
  "cells": [
    {
      "cell_type": "raw",
      "metadata": {},
      "source": [
        "---\n",
        "format: \n",
        "    revealjs:\n",
        "        footer: \"Sustainable and equitable cities and regions for a net zero world\"\n",
        "        logo: leeds.jpg\n",
        "execute:\n",
        "    echo: false\n",
        "---"
      ],
      "id": "6fe4c774"
    },
    {
      "cell_type": "markdown",
      "metadata": {},
      "source": [
        "## Real-Time Pedestrian Simulation\n",
        "\n",
        "* Context in urban analytics:\n",
        "    * Why are we using ABM + DA?\n",
        "    * What is the point of real-time pedestrian simulation?\n",
        "* ABM\n",
        "* Data Assimilation\n",
        "* EnKF\n"
      ],
      "id": "77cdcdb0"
    },
    {
      "cell_type": "code",
      "metadata": {},
      "source": [
        "import matplotlib.pyplot as plt\n",
        "plt.hist([1, 2, 2, 3, 4, 5, 3, 5, 6, 6, 3, 3, 3])\n",
        "plt.show()"
      ],
      "id": "7f78127b",
      "execution_count": null,
      "outputs": []
    },
    {
      "cell_type": "markdown",
      "metadata": {},
      "source": [
        "## Real-Time Pedestrian Simulation\n",
        "\n",
        "+-------------------------------------------------------------+-------------------+------------------------------------------------+\n",
        "| Agent-Based Modelling                                       |                   | Real-Time Data                                 |\n",
        "+-------------------------------------------------------------+-------------------+------------------------------------------------+\n",
        "| -                                                           |                   | -                                              |\n",
        "+-------------------------------------------------------------+-------------------+------------------------------------------------+\n",
        "|                                                             | Data Assimilation |                                                |\n",
        "+-------------------------------------------------------------+-------------------+------------------------------------------------+\n",
        "| - <span style=\"color:green\">Complete system coverage</span> |                   | - <span style=\"color:red\">Data sparsity</span> |\n",
        "+-------------------------------------------------------------+-------------------+------------------------------------------------+\n",
        "|                                                             |                   |                                                |\n",
        "+-------------------------------------------------------------+-------------------+------------------------------------------------+\n",
        "\n",
        "## EnKF in Action\n",
        "\n",
        "\n",
        "```{=html}\n",
        "<iframe width=\"1200\" height=\"1000\" src=\"./enkf_animation.html\" title=\"Ensemble Kalman Filter\"></iframe>\n",
        "```"
      ],
      "id": "7b68b2d3"
    }
  ],
  "metadata": {
    "kernelspec": {
      "name": "python3",
      "language": "python",
      "display_name": "Python 3"
    }
  },
  "nbformat": 4,
  "nbformat_minor": 5
}