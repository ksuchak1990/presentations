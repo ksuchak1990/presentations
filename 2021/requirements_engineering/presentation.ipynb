{
 "cells": [
  {
   "cell_type": "markdown",
   "id": "recorded-thickness",
   "metadata": {
    "slideshow": {
     "slide_type": "slide"
    }
   },
   "source": [
    "# Requirements Engineering\n",
    "\n",
    "### Keiran Suchak\n",
    "\n",
    "### GEOG5870M Web-Based GIS"
   ]
  },
  {
   "cell_type": "markdown",
   "id": "clean-training",
   "metadata": {
    "slideshow": {
     "slide_type": "slide"
    }
   },
   "source": [
    "# Why do we do requirement engineering?"
   ]
  },
  {
   "cell_type": "markdown",
   "id": "fabulous-tournament",
   "metadata": {
    "slideshow": {
     "slide_type": "subslide"
    }
   },
   "source": [
    "# A meeting with a client"
   ]
  },
  {
   "cell_type": "markdown",
   "id": "sexual-cause",
   "metadata": {
    "slideshow": {
     "slide_type": "fragment"
    }
   },
   "source": [
    "Client: \n",
    "\n",
    "> I would like a rock please"
   ]
  },
  {
   "cell_type": "markdown",
   "id": "interstate-chosen",
   "metadata": {
    "slideshow": {
     "slide_type": "fragment"
    }
   },
   "source": [
    "<div style=\"text-align: right\"> You: </div>\n",
    "\n",
    "> Of course, that will cost you £100"
   ]
  },
  {
   "cell_type": "markdown",
   "id": "selected-following",
   "metadata": {
    "slideshow": {
     "slide_type": "fragment"
    }
   },
   "source": [
    "Client:\n",
    "\n",
    "> It's a deal"
   ]
  },
  {
   "cell_type": "markdown",
   "id": "handmade-letters",
   "metadata": {
    "slideshow": {
     "slide_type": "subslide"
    }
   },
   "source": [
    "# We have a winner!\n",
    "\n",
    "<p align=\"center\">\n",
    "  <img width=\"460\" height=\"300\" src=\"https://encrypted-tbn0.gstatic.com/images?q=tbn:ANd9GcTOh6hVl66INXpGGFnXDuGFQEa8l6CF-qSrUg&usqp=CAU\">\n",
    "</p>"
   ]
  },
  {
   "cell_type": "markdown",
   "id": "short-castle",
   "metadata": {
    "slideshow": {
     "slide_type": "subslide"
    }
   },
   "source": [
    "# Ok, but how about this?\n",
    "\n",
    "<p align=\"center\">\n",
    "  <img src=\"https://live.staticflickr.com/7426/10499454435_5b22ce1de7_b.jpg\">\n",
    "</p>"
   ]
  },
  {
   "cell_type": "markdown",
   "id": "timely-private",
   "metadata": {
    "slideshow": {
     "slide_type": "subslide"
    }
   },
   "source": [
    "# Please let this be the one...\n",
    "\n",
    "<p align=\"center\">\n",
    "  <img src=\"https://pixy.org/src/38/382500.jpg\">\n",
    "</p>"
   ]
  },
  {
   "cell_type": "markdown",
   "id": "centered-hierarchy",
   "metadata": {
    "slideshow": {
     "slide_type": "subslide"
    }
   },
   "source": [
    "<p align=\"center\">\n",
    "  <img src=\"./not_stonks.jpg\">\n",
    "</p>"
   ]
  },
  {
   "cell_type": "markdown",
   "id": "secure-mongolia",
   "metadata": {
    "slideshow": {
     "slide_type": "subslide"
    }
   },
   "source": [
    "# What could we have done better?"
   ]
  },
  {
   "cell_type": "markdown",
   "id": "false-horror",
   "metadata": {
    "slideshow": {
     "slide_type": "fragment"
    }
   },
   "source": [
    "* Better understand the client's needs"
   ]
  },
  {
   "cell_type": "markdown",
   "id": "directed-carol",
   "metadata": {
    "slideshow": {
     "slide_type": "fragment"
    }
   },
   "source": [
    "* Plan before we start attacking the problem"
   ]
  },
  {
   "cell_type": "markdown",
   "id": "missing-graphic",
   "metadata": {
    "slideshow": {
     "slide_type": "fragment"
    }
   },
   "source": [
    "* Take into consideration the constraints of the project"
   ]
  },
  {
   "cell_type": "markdown",
   "id": "colonial-wesley",
   "metadata": {
    "slideshow": {
     "slide_type": "slide"
    }
   },
   "source": [
    "# A project workflow"
   ]
  },
  {
   "cell_type": "markdown",
   "id": "dominant-gilbert",
   "metadata": {
    "slideshow": {
     "slide_type": "fragment"
    }
   },
   "source": [
    "<p align=\"center\">\n",
    "  <img src=\"./workflow_all.jpg\">\n",
    "</p>"
   ]
  },
  {
   "cell_type": "markdown",
   "id": "instrumental-measure",
   "metadata": {
    "slideshow": {
     "slide_type": "subslide"
    }
   },
   "source": [
    "# A project workflow\n",
    "\n",
    "<p align=\"center\">\n",
    "  <img src=\"./workflow.jpg\">\n",
    "</p>"
   ]
  },
  {
   "cell_type": "markdown",
   "id": "widespread-theater",
   "metadata": {
    "slideshow": {
     "slide_type": "slide"
    }
   },
   "source": [
    "# Needs, features and requirements"
   ]
  },
  {
   "cell_type": "markdown",
   "id": "polar-gazette",
   "metadata": {
    "slideshow": {
     "slide_type": "subslide"
    }
   },
   "source": [
    "* **Stakeholder needs:** what the users/stakeholders \"need\" from a solution to the problem."
   ]
  },
  {
   "cell_type": "markdown",
   "id": "underlying-jefferson",
   "metadata": {
    "slideshow": {
     "slide_type": "fragment"
    }
   },
   "source": [
    "* e.g. \"I need an easier way to understand the status of my inventory.\""
   ]
  },
  {
   "cell_type": "markdown",
   "id": "occasional-virgin",
   "metadata": {
    "slideshow": {
     "slide_type": "subslide"
    }
   },
   "source": [
    "* **System features:** a service tht the system provides in order to fulfill one or more of the *stakeholder needs*."
   ]
  },
  {
   "cell_type": "markdown",
   "id": "forward-grave",
   "metadata": {
    "slideshow": {
     "slide_type": "fragment"
    }
   },
   "source": [
    "|       Application domain       \t|                Example system feature               \t|\n",
    "|:------------------------------:\t|:---------------------------------------------------:\t|\n",
    "| Elevator control system        \t| Manual control of doors during fire-escape          \t|\n",
    "| Inventory control system       \t| Provide up-to-date status of all items in inventory \t|\n",
    "| Automatic home lighting system \t| Vacation setting for extended periods away          \t|"
   ]
  },
  {
   "cell_type": "markdown",
   "id": "second-billion",
   "metadata": {
    "slideshow": {
     "slide_type": "subslide"
    }
   },
   "source": [
    "* **Technical requirements:** individual system capabilities that come together to form *system features*."
   ]
  },
  {
   "cell_type": "markdown",
   "id": "electrical-reproduction",
   "metadata": {
    "slideshow": {
     "slide_type": "slide"
    }
   },
   "source": [
    "# Analysing a problem"
   ]
  },
  {
   "cell_type": "markdown",
   "id": "satellite-protocol",
   "metadata": {
    "slideshow": {
     "slide_type": "fragment"
    }
   },
   "source": [
    "1. Agree on a problem definition"
   ]
  },
  {
   "cell_type": "markdown",
   "id": "exact-malawi",
   "metadata": {
    "slideshow": {
     "slide_type": "fragment"
    }
   },
   "source": [
    "2. Understand the root cause"
   ]
  },
  {
   "cell_type": "markdown",
   "id": "lucky-internship",
   "metadata": {
    "slideshow": {
     "slide_type": "fragment"
    }
   },
   "source": [
    "3. Identify the stakeholders and users"
   ]
  },
  {
   "cell_type": "markdown",
   "id": "configured-hayes",
   "metadata": {
    "slideshow": {
     "slide_type": "fragment"
    }
   },
   "source": [
    "4. Define the solution system boundary"
   ]
  },
  {
   "cell_type": "markdown",
   "id": "transsexual-qualification",
   "metadata": {
    "slideshow": {
     "slide_type": "fragment"
    }
   },
   "source": [
    "5. Identify the contrainsts to be imposed on the solution"
   ]
  },
  {
   "cell_type": "markdown",
   "id": "previous-quality",
   "metadata": {
    "slideshow": {
     "slide_type": "slide"
    }
   },
   "source": [
    "# Software development processes"
   ]
  },
  {
   "cell_type": "markdown",
   "id": "macro-language",
   "metadata": {
    "slideshow": {
     "slide_type": "fragment"
    }
   },
   "source": [
    "<p align=\"center\">\n",
    "  <img src=\"./workflow_all.jpg\">\n",
    "</p>"
   ]
  },
  {
   "cell_type": "markdown",
   "id": "virgin-radical",
   "metadata": {
    "slideshow": {
     "slide_type": "subslide"
    }
   },
   "source": [
    "<p align=\"center\">\n",
    "  <img src=\"https://cdn.spaceotechnologies.com/wp-content/uploads/2020/06/waterfall-development-model-1.png\">\n",
    "</p>"
   ]
  },
  {
   "cell_type": "markdown",
   "id": "excessive-royalty",
   "metadata": {
    "slideshow": {
     "slide_type": "subslide"
    }
   },
   "source": [
    "<p align=\"center\">\n",
    "  <img src=\"https://cdn.spaceotechnologies.com/wp-content/uploads/2020/06/prototyping-developing-model.png\">\n",
    "</p>"
   ]
  },
  {
   "cell_type": "markdown",
   "id": "owned-basement",
   "metadata": {
    "slideshow": {
     "slide_type": "subslide"
    }
   },
   "source": [
    "<p align=\"center\">\n",
    "  <img src=\"https://cdn.spaceotechnologies.com/wp-content/uploads/2020/06/incremental-development-method.png\">\n",
    "</p>"
   ]
  },
  {
   "cell_type": "markdown",
   "id": "fresh-criticism",
   "metadata": {
    "slideshow": {
     "slide_type": "subslide"
    }
   },
   "source": [
    "<p align=\"center\">\n",
    "  <img src=\"https://cdn.spaceotechnologies.com/wp-content/uploads/2020/06/iterative-development-model-1.png\">\n",
    "</p>"
   ]
  },
  {
   "cell_type": "markdown",
   "id": "adolescent-zambia",
   "metadata": {
    "slideshow": {
     "slide_type": "subslide"
    }
   },
   "source": [
    "<p align=\"center\">\n",
    "  <img src=\"https://cdn.spaceotechnologies.com/wp-content/uploads/2020/06/agile-development-model-1.png\">\n",
    "</p>"
   ]
  },
  {
   "cell_type": "markdown",
   "id": "modern-energy",
   "metadata": {
    "slideshow": {
     "slide_type": "slide"
    }
   },
   "source": [
    "# Tips and pointers"
   ]
  },
  {
   "cell_type": "markdown",
   "id": "equipped-establishment",
   "metadata": {
    "slideshow": {
     "slide_type": "fragment"
    }
   },
   "source": [
    "* Ask questions"
   ]
  },
  {
   "cell_type": "markdown",
   "id": "satisfactory-geology",
   "metadata": {
    "slideshow": {
     "slide_type": "fragment"
    }
   },
   "source": [
    "* Understand your stakeholders"
   ]
  },
  {
   "cell_type": "markdown",
   "id": "great-prospect",
   "metadata": {
    "slideshow": {
     "slide_type": "fragment"
    }
   },
   "source": [
    "* Have a plan"
   ]
  },
  {
   "cell_type": "markdown",
   "id": "handled-pittsburgh",
   "metadata": {
    "slideshow": {
     "slide_type": "fragment"
    }
   },
   "source": [
    "* Be realistic"
   ]
  },
  {
   "cell_type": "markdown",
   "id": "purple-killer",
   "metadata": {
    "slideshow": {
     "slide_type": "fragment"
    }
   },
   "source": [
    "* Break things down into smaller chunks"
   ]
  },
  {
   "cell_type": "markdown",
   "id": "essential-forum",
   "metadata": {
    "slideshow": {
     "slide_type": "fragment"
    }
   },
   "source": [
    "* Comment and document your work"
   ]
  },
  {
   "cell_type": "markdown",
   "id": "dirty-green",
   "metadata": {
    "slideshow": {
     "slide_type": "fragment"
    }
   },
   "source": [
    "* Ask more questions"
   ]
  }
 ],
 "metadata": {
  "celltoolbar": "Slideshow",
  "kernelspec": {
   "display_name": "Python 3",
   "language": "python",
   "name": "python3"
  },
  "language_info": {
   "codemirror_mode": {
    "name": "ipython",
    "version": 3
   },
   "file_extension": ".py",
   "mimetype": "text/x-python",
   "name": "python",
   "nbconvert_exporter": "python",
   "pygments_lexer": "ipython3",
   "version": "3.9.1"
  },
  "rise": {
   "enable_chalkboard": true
  }
 },
 "nbformat": 4,
 "nbformat_minor": 5
}
