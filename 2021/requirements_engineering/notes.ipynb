{
 "cells": [
  {
   "cell_type": "markdown",
   "id": "adopted-table",
   "metadata": {},
   "source": [
    "# Requirements Engineering"
   ]
  },
  {
   "cell_type": "markdown",
   "id": "timely-applicant",
   "metadata": {},
   "source": [
    "#### Keiran Suchak\n",
    "\n",
    "#### GEOG5870M Web-Based GIS"
   ]
  },
  {
   "cell_type": "markdown",
   "id": "historic-compromise",
   "metadata": {},
   "source": [
    "## Introduction"
   ]
  },
  {
   "cell_type": "markdown",
   "id": "japanese-modification",
   "metadata": {},
   "source": [
    "Consider yourself a year from now - you have a wonderful high-paying job with great benefits, your own office in a company that allows you to bring you dog in everyday. Life is great."
   ]
  },
  {
   "cell_type": "markdown",
   "id": "charitable-auditor",
   "metadata": {},
   "source": [
    "One day, a client comes in with what they thing is a very simple project, and you start discussing it...\n",
    "\n",
    "* Client:\n",
    "> I would like you to bring me a rock.\n",
    "* You:\n",
    "> Of course, that will cost you exactly £100.\n",
    "* Client:\n",
    "> It's a deal!"
   ]
  },
  {
   "cell_type": "markdown",
   "id": "auburn-estate",
   "metadata": {},
   "source": [
    "Keen to make some easy money, you head out to your nearest park, pick up the first rock you find and return to your office.\n",
    "<p align=\"center\">\n",
    "  <img width=\"460\" height=\"300\" src=\"https://encrypted-tbn0.gstatic.com/images?q=tbn:ANd9GcTOh6hVl66INXpGGFnXDuGFQEa8l6CF-qSrUg&usqp=CAU\">\n",
    "</p>"
   ]
  },
  {
   "cell_type": "markdown",
   "id": "creative-edwards",
   "metadata": {},
   "source": [
    "You proudly set it in front of you client and proclaim\n",
    "> Job done! Money please!"
   ]
  },
  {
   "cell_type": "markdown",
   "id": "natural-situation",
   "metadata": {},
   "source": [
    "Unfortunately, your client is not quite as enthusiastic - they sit there, inspecting the specimen, humming and hawing.\n",
    "Eventually, they turn to you and say:\n",
    "> Well actually, I was thinking more of a blue stone..."
   ]
  },
  {
   "cell_type": "markdown",
   "id": "wooden-flush",
   "metadata": {},
   "source": [
    "Determined to succeed, you travel to Tanzania and collect a Tanzanite gemstone, returning to your office to truimphantly set it down in front of your client.\n",
    "<p align=\"center\">\n",
    "  <img src=\"https://live.staticflickr.com/7426/10499454435_5b22ce1de7_b.jpg\">\n",
    "</p>"
   ]
  },
  {
   "cell_type": "markdown",
   "id": "apart-meeting",
   "metadata": {},
   "source": [
    "Your client inspects this new offering cautiously for a few minutes, eventually breaking the silence to say\n",
    "> This isn't bad, but I really want a round blue stone..."
   ]
  },
  {
   "cell_type": "markdown",
   "id": "above-salmon",
   "metadata": {},
   "source": [
    "Pulling your hair out at this stage, you rush off to the nearest toy store and buy a shiny blue marble. Desperately hoping that this will be the solution, you head back to your office. \n",
    "<p align=\"center\">\n",
    "  <img src=\"https://pixy.org/src/38/382500.jpg\">\n",
    "</p>"
   ]
  },
  {
   "cell_type": "markdown",
   "id": "welsh-characteristic",
   "metadata": {},
   "source": [
    "Upon seeing this wondrous item, your client exclaims\n",
    "> Amazing! You have solved all of my problems with this! Take my money!"
   ]
  },
  {
   "cell_type": "markdown",
   "id": "domestic-february",
   "metadata": {},
   "source": [
    "A few hours later, you sit there in your desk chair, counting through your earnings and realise that you have in fact spent more money obtaining the rock for your client than your client paid you..."
   ]
  },
  {
   "cell_type": "markdown",
   "id": "failing-opening",
   "metadata": {},
   "source": [
    "How could you have better approached this situation?\n",
    "Perhaps we should have asked more questions before rushing off each time?"
   ]
  },
  {
   "cell_type": "markdown",
   "id": "trying-assist",
   "metadata": {},
   "source": [
    "Such an example helps to demonstrate the types of issues that can arise when working on a project - in this case, the requirements of the project were poorly defined, and we did not appear to have a plan.\n",
    "Our lives are typically much easier when we had undertake projects with a more structured approach, and this is especially true when undertaking software development projects.\n",
    "A successful software projects is one that fulfills the following conditions:\n",
    "* It addresses the problem in an appropriate manner.\n",
    "* It is executed within constraints (whether they be time constraints, monetary constraints or other types of constraints)."
   ]
  },
  {
   "cell_type": "markdown",
   "id": "attempted-somewhere",
   "metadata": {},
   "source": [
    "In order to fulfill these criteria, we often make use of an approach known as _requirements engineering_."
   ]
  },
  {
   "cell_type": "markdown",
   "id": "necessary-county",
   "metadata": {},
   "source": [
    "## Terminology"
   ]
  },
  {
   "cell_type": "markdown",
   "id": "included-chamber",
   "metadata": {},
   "source": [
    "Before proceeding, it is worth defining some terms that are often used when undertaking requirements engineering."
   ]
  },
  {
   "cell_type": "markdown",
   "id": "academic-richards",
   "metadata": {},
   "source": [
    "### Domains"
   ]
  },
  {
   "cell_type": "markdown",
   "id": "widespread-longitude",
   "metadata": {},
   "source": [
    "When we talk about requirements engineering, we typically distinguish between the _problem domain_ and the _solution domain_."
   ]
  },
  {
   "cell_type": "markdown",
   "id": "automotive-bruce",
   "metadata": {},
   "source": [
    "The _problem domain_ is where our users and stakeholders exist.\n",
    "While visiting this space, we want to gain an idea of the context of the problem and the needs that we should fulfill in order to address the problem.\n",
    "Be aware that people who inhabit the problem domain may not use the same words that we do to describe things.\n",
    "Our task when visiting the problem domain is, therefore, to make sure that we have a good understanding of the stakeholders' problem."
   ]
  },
  {
   "cell_type": "markdown",
   "id": "approved-wisconsin",
   "metadata": {},
   "source": [
    "The _solution domain_ is where we normally exist, and is where we spend our time working on producing a solution to the problem."
   ]
  },
  {
   "cell_type": "markdown",
   "id": "cognitive-magic",
   "metadata": {},
   "source": [
    "### Needs, Features and Requirements"
   ]
  },
  {
   "cell_type": "markdown",
   "id": "capital-majority",
   "metadata": {},
   "source": [
    "When starting a new project with a client, our first and most important job is to figure what the requirements are of the project.\n",
    "When trying to figure out what these requirements are, it can be useful to think in terms of _stakeholder needs_, _system features_ and _technical requirements_."
   ]
  },
  {
   "cell_type": "markdown",
   "id": "structured-incentive",
   "metadata": {},
   "source": [
    "When working in the _problem domain_, it is our job to ensure that we understand the _stakeholder needs_ in terms of what they need from the problem solution.\n",
    "Consider that you might encounter what appears to be a very simple problem and have a solution that makes complete sense to you but may not be appropriate for the stakeholders for any number of reasons.\n",
    "It is our responsibility to make sure that we ask the correct questions - stakeholders may not realise that something is a _need_ until they are prompted to think about it; as we saw in our initial example, asking more questions about the rock that our client was looking for at our initial meeting would have made our work much easier.\n",
    "So ask questions!"
   ]
  },
  {
   "cell_type": "markdown",
   "id": "distinct-omaha",
   "metadata": {},
   "source": [
    "A _system feature_ is a service that the system provides to fulfill one or more of the _stakeholder needs_.\n",
    "These will typically be expressed in language that both you and your stakeholder(s) can understand.\n",
    "They are a convenient way to describe functionality without getting bogged down in details of how they are implemented.\n",
    "Examples of _system features_ might include:\n",
    "\n",
    "|       Application domain       \t|                Example system feature               \t|\n",
    "|:------------------------------:\t|:---------------------------------------------------:\t|\n",
    "| Elevator control system        \t| Manual control of doors during fire-escape          \t|\n",
    "| Inventory control system       \t| Provide up-to-date status of all items in inventory \t|\n",
    "| Automatic home lighting system \t| Vacation setting for extended periods away          \t|"
   ]
  },
  {
   "cell_type": "markdown",
   "id": "front-cargo",
   "metadata": {},
   "source": [
    "As we move into our _solution domain_, we start to think in terms of _technical requirements_.\n",
    "These are individual system capabilities that come together to form _system features_."
   ]
  },
  {
   "cell_type": "markdown",
   "id": "literary-registration",
   "metadata": {},
   "source": [
    "## Analysing a Problem"
   ]
  },
  {
   "cell_type": "markdown",
   "id": "professional-council",
   "metadata": {},
   "source": [
    "Once we are happy with the terminology that we are using, we can start analysing the problem.\n",
    "Problem analysis is the process of understanding real-world problems and user-needs, and proposing solutions that meet those needs.\n",
    "This allows us to gain a better understanding of the problem before development begins"
   ]
  },
  {
   "cell_type": "markdown",
   "id": "white-treaty",
   "metadata": {},
   "source": [
    "This process is made up of five steps:\n",
    "1. **Agree on a problem definition:** Sit down with your stakeholders, agree upon what the problem is, and consider talking about what the potential benefits of developing a solution might be.\n",
    "2. **Understand the root cause:** Here, we seek to identify the problem behind the problem. Ask the stakeholder what they think the root cause of their problem is. And keep asking why.\n",
    "3. **Identify the stakeholders and users:** A stakeholder is anyone who could be affected by the implementation of a new system; many stakeholders are users of the system. Understanding who they are and what their needs are is critical to developing an effective solution to the problem.\n",
    "4. **Define the solution system boundary:** Here, we start trying to define a system that can be used to address the problem. In order to do this, we need to understand what is part of our system and what isn't, i.e. what are things that might be interacting with our system. This allows us to understand what we are responsible for developing an how it should interface with the outside world.\n",
    "5. **Identify the contrainsts to be imposed on the solution:**: These are restrictions on our freedom and ability to provide a solution; they might be economic (e.g. budget), political (e.g. inter-departmental issues), technical (e.g. are we restricted to working with specific technologies) or timee."
   ]
  },
  {
   "cell_type": "markdown",
   "id": "running-pharmacy",
   "metadata": {},
   "source": [
    "## Software Development Processes"
   ]
  },
  {
   "cell_type": "markdown",
   "id": "consistent-bosnia",
   "metadata": {},
   "source": [
    "The process of developing software typically consists of four main stages:\n",
    "1. **Specification:** Define the problem, the main functionalities of the software and the constraints of them.\n",
    "2. **Design and implementation:** Design how we want to solve the problem and execute this plan.\n",
    "3. **Verification and validation:** Ensure that the software is aligned with the specification, and more importantly with the stakeholders' needs.\n",
    "4. **Maintenance:** As time passes beyond the initial release of the solution, ensure that it remains up-to-date with evolving stakeholder needs."
   ]
  },
  {
   "cell_type": "markdown",
   "id": "chinese-title",
   "metadata": {},
   "source": [
    "This may make it seem like these stages natually flow in sequence; that may be the case in some scenarios, but not always.\n",
    "Here, we will explore a few different development process models with fit the stages together in different ways."
   ]
  },
  {
   "cell_type": "markdown",
   "id": "received-chambers",
   "metadata": {},
   "source": [
    "### Waterfall model"
   ]
  },
  {
   "cell_type": "markdown",
   "id": "multiple-discrimination",
   "metadata": {},
   "source": [
    "The waterfall model is a sequential approach, with each process being undertaken in linear order.\n",
    "The idea behind this is that each stage is a discrete process and as such none of them should overlap.\n",
    "It is, however, often difficult to ensure that this is the case.\n",
    "As such, this approach is considered rather rigid and should only be used when the project requirements are already very well understood and are unlikely to change."
   ]
  },
  {
   "cell_type": "markdown",
   "id": "awful-techno",
   "metadata": {},
   "source": [
    "<p align=\"center\">\n",
    "  <img src=\"https://cdn.spaceotechnologies.com/wp-content/uploads/2020/06/waterfall-development-model-1.png\">\n",
    "</p>"
   ]
  },
  {
   "cell_type": "markdown",
   "id": "allied-zimbabwe",
   "metadata": {},
   "source": [
    "### Prototype model"
   ]
  },
  {
   "cell_type": "markdown",
   "id": "incorrect-manitoba",
   "metadata": {},
   "source": [
    "In the prototype model, we quickly develop a system (or at part of it) to check the stakeholders' requirements or feasibility of design decisions.\n",
    "The client is, therefore, involved through much of the development process.\n",
    "This approach is often useful when either the stakeholder or developer are unsure of the requirements or single best design approach."
   ]
  },
  {
   "cell_type": "markdown",
   "id": "aggregate-psychiatry",
   "metadata": {},
   "source": [
    "<p align=\"center\">\n",
    "  <img src=\"https://cdn.spaceotechnologies.com/wp-content/uploads/2020/06/prototyping-developing-model.png\">\n",
    "</p>"
   ]
  },
  {
   "cell_type": "markdown",
   "id": "third-portuguese",
   "metadata": {},
   "source": [
    "### Incremental model"
   ]
  },
  {
   "cell_type": "markdown",
   "id": "cross-grove",
   "metadata": {},
   "source": [
    "In the incremental development model, we aim to develop an initial implementation, expose it to user feedback and then develop further versions based on this feedback.\n",
    "Each increment typically involves the addition of a futher piece of functionality required by the users, which may be developed via a waterfall-like process.\n",
    "This makes it more flexible to changing requirements, easier to incorporate user feedback and ensures that an initial version is developed quickly."
   ]
  },
  {
   "cell_type": "markdown",
   "id": "ranking-celtic",
   "metadata": {},
   "source": [
    "<p align=\"center\">\n",
    "  <img src=\"https://cdn.spaceotechnologies.com/wp-content/uploads/2020/06/incremental-development-method.png\">\n",
    "</p>"
   ]
  },
  {
   "cell_type": "markdown",
   "id": "frank-nothing",
   "metadata": {},
   "source": [
    "### Iterative model"
   ]
  },
  {
   "cell_type": "markdown",
   "id": "thrown-export",
   "metadata": {},
   "source": [
    "In the iterative development model, we undertake iterative cycles in which we build small portions of all of the features simultaneously.\n",
    "With each passing cycle, each of the features of the product evolve.\n",
    "Using this approach may require a lot of planning up front to ensure that the development of features proceeds synchronously cycle after cycle."
   ]
  },
  {
   "cell_type": "markdown",
   "id": "insured-shanghai",
   "metadata": {},
   "source": [
    "<p align=\"center\">\n",
    "  <img src=\"https://cdn.spaceotechnologies.com/wp-content/uploads/2020/06/iterative-development-model-1.png\">\n",
    "</p>"
   ]
  },
  {
   "cell_type": "markdown",
   "id": "european-relevance",
   "metadata": {},
   "source": [
    "### Agile model"
   ]
  },
  {
   "cell_type": "markdown",
   "id": "fixed-organic",
   "metadata": {},
   "source": [
    "The agile approach incorporates a combination of the incremental and iterative approaches.\n",
    "We build our produce by undertaking iterative cycles with the aim of developing new releases quickly.\n",
    "This involves the stakeholder in the development of each feature, allowing flexibility to change.\n",
    "Agile methodologies are often associated with frequent staff meetings in which we set expectations."
   ]
  },
  {
   "cell_type": "markdown",
   "id": "familiar-fundamentals",
   "metadata": {},
   "source": [
    "<p align=\"center\">\n",
    "  <img src=\"https://cdn.spaceotechnologies.com/wp-content/uploads/2020/06/agile-development-model-1.png\">\n",
    "</p>"
   ]
  },
  {
   "cell_type": "markdown",
   "id": "referenced-bristol",
   "metadata": {},
   "source": [
    "## Tips and Pointers"
   ]
  },
  {
   "cell_type": "markdown",
   "id": "adjusted-punch",
   "metadata": {},
   "source": [
    "* **Ask questions:** Ask lots of questions. Ask more questions. If you think that you have asked enough questions... Go ask more questions.\n",
    "* **Understand your stakeholder(s):** Your stakeholders may use language differently to you, so make sure that you both mean the same thing. You should also make a clear distinction their \"needs\" and their \"wants\", and be clear about what problem you are trying to solve.\n",
    "* **Have a plan:** It can be tempting to just jump straight into a project, but spending some time on planning how you are going to approach a problem and how long you plan to spend developing different components makes a huge difference.\n",
    "* **Be realistic:** Remember that we need to work within our constraints, whether they be budget, time, skills or technologies.\n",
    "* **Break things down into smaller chunks:** You will typically start off with one big problem that you want to solve, and this may seem intimidating. The first step that you should take is to break this down into smaller sub-problems. And then break these down intro smaller sub-problems. Continue this process until you feel that you are dealing with problems that you know how to solve. This is the essence of software development..\n",
    "* **Comment and document your work:** Very rarely will you work on a project in isolation. It is, therefore, very important that you make notes and/or comment on what you are doing. Not only will your colleagues benefit from this, but you will too (we're all liable to forget our own work pretty quickly so some well-placed comments can act as great reminders of what you were thinking last time you were working on a project).\n",
    "* **Ask questions**"
   ]
  },
  {
   "cell_type": "markdown",
   "id": "synthetic-restoration",
   "metadata": {},
   "source": [
    "## References"
   ]
  },
  {
   "cell_type": "markdown",
   "id": "unnecessary-order",
   "metadata": {},
   "source": [
    "* Leffingwell, D., & Widrig, D. (2000). Managing software requirements: a unified approach. Addison-Wesley Professional.\n",
    "* Bray, I. K. (2002). An introduction to requirements engineering. Pearson Education.\n",
    "* https://www.tutorialspoint.com/sdlc/index.htm\n",
    "* https://www.educba.com/software-development/software-development-tutorials/software-engineering-tutorial/\n",
    "* https://www.spaceotechnologies.com/software-development-process/"
   ]
  }
 ],
 "metadata": {
  "kernelspec": {
   "display_name": "Python 3",
   "language": "python",
   "name": "python3"
  },
  "language_info": {
   "codemirror_mode": {
    "name": "ipython",
    "version": 3
   },
   "file_extension": ".py",
   "mimetype": "text/x-python",
   "name": "python",
   "nbconvert_exporter": "python",
   "pygments_lexer": "ipython3",
   "version": "3.9.1"
  }
 },
 "nbformat": 4,
 "nbformat_minor": 5
}
