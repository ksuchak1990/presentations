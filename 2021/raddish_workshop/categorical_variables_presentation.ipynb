{
 "cells": [
  {
   "cell_type": "markdown",
   "id": "green-authority",
   "metadata": {
    "slideshow": {
     "slide_type": "slide"
    }
   },
   "source": [
    "# Categorical Variables Estimation - RADDISH Workshop\n",
    "\n",
    "### Keiran Suchak\n",
    "### 26/05/21"
   ]
  },
  {
   "cell_type": "markdown",
   "id": "reported-marathon",
   "metadata": {
    "slideshow": {
     "slide_type": "slide"
    }
   },
   "source": [
    "# Context"
   ]
  },
  {
   "cell_type": "markdown",
   "id": "cathedral-theorem",
   "metadata": {
    "slideshow": {
     "slide_type": "slide"
    }
   },
   "source": [
    "# Previous work"
   ]
  },
  {
   "cell_type": "markdown",
   "id": "placed-intellectual",
   "metadata": {
    "slideshow": {
     "slide_type": "fragment"
    }
   },
   "source": [
    "* Ensemble Kalman Filter\n",
    "* Location estimation with synthetic data\n",
    "* Plotly animation"
   ]
  },
  {
   "cell_type": "markdown",
   "id": "surprised-groove",
   "metadata": {
    "slideshow": {
     "slide_type": "subslide"
    }
   },
   "source": [
    "# Previous Work"
   ]
  },
  {
   "cell_type": "markdown",
   "id": "impossible-french",
   "metadata": {
    "slideshow": {
     "slide_type": "fragment"
    }
   },
   "source": [
    "* State ensemble:\n",
    "```python\n",
    "ensemble_state = [model_state_0, model_state_1, ..., model_state_N]\n",
    "```"
   ]
  },
  {
   "cell_type": "markdown",
   "id": "secure-enterprise",
   "metadata": {
    "slideshow": {
     "slide_type": "fragment"
    }
   },
   "source": [
    "* Model state:\n",
    "```python\n",
    "model_state = [agent_state_0, agent_state_1, ..., agent_state_M]\n",
    "```"
   ]
  },
  {
   "cell_type": "markdown",
   "id": "german-official",
   "metadata": {
    "slideshow": {
     "slide_type": "fragment"
    }
   },
   "source": [
    "* Agent state:\n",
    "```python\n",
    "agent_state = [x, y]\n",
    "```"
   ]
  },
  {
   "cell_type": "markdown",
   "id": "stone-poster",
   "metadata": {
    "slideshow": {
     "slide_type": "subslide"
    }
   },
   "source": [
    "# Previous Work"
   ]
  },
  {
   "cell_type": "markdown",
   "id": "thrown-leone",
   "metadata": {
    "slideshow": {
     "slide_type": "fragment"
    }
   },
   "source": [
    "* Ensemble state, $\\mathbf{X}$:\n",
    "$$\n",
    "\\mathbf{X} = [\\mathbf{m}_0, \\mathbf{m}_1, \\ldots, \\mathbf{m}_N],\n",
    "$$\n",
    "where $\\mathbf{m}_i$ is the $i$th model state and $N$ is the ensemble size."
   ]
  },
  {
   "cell_type": "markdown",
   "id": "protecting-prerequisite",
   "metadata": {
    "slideshow": {
     "slide_type": "fragment"
    }
   },
   "source": [
    "* Model state, $\\mathbf{m}$:\n",
    "$$\n",
    "\\mathbf{m} = [\\mathbf{a}_0, \\mathbf{a}_1, \\ldots, \\mathbf{a}_M],\n",
    "$$\n",
    "where $\\mathbf{a}_j$ is the $j$th agent state and $M$ is the population size."
   ]
  },
  {
   "cell_type": "markdown",
   "id": "assured-intelligence",
   "metadata": {
    "slideshow": {
     "slide_type": "fragment"
    }
   },
   "source": [
    "* Agent state, $\\mathbf{a}$:\n",
    "$$\n",
    "\\mathbf{a} = [x, y],\n",
    "$$\n",
    "where $x$ and $y$ are the agent's $x$ and $y$ coorindates.\n"
   ]
  },
  {
   "cell_type": "markdown",
   "id": "chicken-calibration",
   "metadata": {
    "slideshow": {
     "slide_type": "slide"
    }
   },
   "source": [
    "# Problem"
   ]
  },
  {
   "cell_type": "markdown",
   "id": "crude-cycling",
   "metadata": {
    "slideshow": {
     "slide_type": "slide"
    }
   },
   "source": [
    "# Ideas"
   ]
  },
  {
   "cell_type": "markdown",
   "id": "royal-class",
   "metadata": {
    "slideshow": {
     "slide_type": "fragment"
    }
   },
   "source": [
    "Ideas for gate estimation:"
   ]
  },
  {
   "cell_type": "markdown",
   "id": "auburn-carter",
   "metadata": {
    "slideshow": {
     "slide_type": "fragment"
    }
   },
   "source": [
    "* Gates estimated in state vector:\n",
    "    * Estimate gate numbers\n",
    "    * Estimate destination location\n",
    "    * Estimate score for each gate"
   ]
  },
  {
   "cell_type": "markdown",
   "id": "christian-criterion",
   "metadata": {
    "slideshow": {
     "slide_type": "fragment"
    }
   },
   "source": [
    "* Gates estimated outside state vector:\n",
    "    * Train model based on agents' x-y coordinate history (in this case, a linear model would probably be appropriate)"
   ]
  },
  {
   "cell_type": "markdown",
   "id": "damaged-turning",
   "metadata": {
    "slideshow": {
     "slide_type": "slide"
    }
   },
   "source": [
    "# Gates estimated inside state vector"
   ]
  },
  {
   "cell_type": "markdown",
   "id": "independent-incidence",
   "metadata": {
    "slideshow": {
     "slide_type": "subslide"
    }
   },
   "source": [
    "# Estimating gate number"
   ]
  },
  {
   "cell_type": "markdown",
   "id": "applicable-discovery",
   "metadata": {
    "slideshow": {
     "slide_type": "fragment"
    }
   },
   "source": [
    "State vector for location estimation:\n",
    "\n",
    "```python\n",
    "model_state = [x_0, y_0, ..., x_N, y_N]\n",
    "```"
   ]
  },
  {
   "cell_type": "markdown",
   "id": "bearing-stage",
   "metadata": {
    "slideshow": {
     "slide_type": "fragment"
    }
   },
   "source": [
    "State vector for location and gate estimation:\n",
    "\n",
    "```python\n",
    "model_state = [x_0, y_0, g_0, ..., x_N, y_N, g_N]\n",
    "```"
   ]
  },
  {
   "cell_type": "markdown",
   "id": "organic-peripheral",
   "metadata": {
    "slideshow": {
     "slide_type": "subslide"
    }
   },
   "source": [
    "# Estimating score for each gate"
   ]
  },
  {
   "cell_type": "markdown",
   "id": "warming-content",
   "metadata": {
    "slideshow": {
     "slide_type": "fragment"
    }
   },
   "source": [
    "State vector for location estimation:\n",
    "\n",
    "```python\n",
    "model_state = [x_0, y_0, ..., x_N, y_N]\n",
    "```"
   ]
  },
  {
   "cell_type": "markdown",
   "id": "expired-duration",
   "metadata": {
    "slideshow": {
     "slide_type": "fragment"
    }
   },
   "source": [
    "State vector for location and gate estimation:\n",
    "\n",
    "```python\n",
    "model_state = [x_0, y_0, g_0_0, g_0_1, g_0_2, ..., g_0_9, g_0_10,\n",
    "               ..., \n",
    "               x_N, y_N, g_0_0, g_0_1, g_0_2, ..., g_0_9, g_0_10]\n",
    "```"
   ]
  },
  {
   "cell_type": "markdown",
   "id": "cubic-architecture",
   "metadata": {
    "slideshow": {
     "slide_type": "fragment"
    }
   },
   "source": [
    "where `g_i_j` refers to the score for the $j$th gate allocated to the $i$th agent."
   ]
  },
  {
   "cell_type": "markdown",
   "id": "numerical-cassette",
   "metadata": {
    "slideshow": {
     "slide_type": "subslide"
    }
   },
   "source": [
    "# More"
   ]
  },
  {
   "cell_type": "markdown",
   "id": "written-academy",
   "metadata": {
    "slideshow": {
     "slide_type": "fragment"
    }
   },
   "source": [
    "i.e. `g_7_5` refers to the score for the $5$th gate allocated to the $7$th agent."
   ]
  },
  {
   "cell_type": "markdown",
   "id": "plastic-romantic",
   "metadata": {
    "slideshow": {
     "slide_type": "subslide"
    }
   },
   "source": [
    "# More"
   ]
  },
  {
   "cell_type": "markdown",
   "id": "laughing-puppy",
   "metadata": {
    "slideshow": {
     "slide_type": "fragment"
    }
   },
   "source": [
    "```python\n",
    "gate = agent_gate_scores.index(max(agent_gate_scores))\n",
    "```"
   ]
  },
  {
   "cell_type": "markdown",
   "id": "developmental-upset",
   "metadata": {
    "slideshow": {
     "slide_type": "slide"
    }
   },
   "source": [
    "# Gates estimated outside state vector"
   ]
  },
  {
   "cell_type": "markdown",
   "id": "verbal-probe",
   "metadata": {},
   "source": [
    "* Consider the ensemble states for each agent"
   ]
  }
 ],
 "metadata": {
  "celltoolbar": "Slideshow",
  "kernelspec": {
   "display_name": "Python 3",
   "language": "python",
   "name": "python3"
  },
  "language_info": {
   "codemirror_mode": {
    "name": "ipython",
    "version": 3
   },
   "file_extension": ".py",
   "mimetype": "text/x-python",
   "name": "python",
   "nbconvert_exporter": "python",
   "pygments_lexer": "ipython3",
   "version": "3.9.2"
  },
  "rise": {
   "enable_chalkboard": true,
   "footer": "<img src='../../UoL.png' width='25%', align='left'>"
  }
 },
 "nbformat": 4,
 "nbformat_minor": 5
}
