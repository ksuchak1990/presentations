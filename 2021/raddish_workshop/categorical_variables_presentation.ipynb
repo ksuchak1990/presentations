{
 "cells": [
  {
   "cell_type": "markdown",
   "id": "intensive-contrary",
   "metadata": {
    "slideshow": {
     "slide_type": "slide"
    }
   },
   "source": [
    "# Categorical Variables Estimation - RADDISH Workshop\n",
    "\n",
    "### Keiran Suchak\n",
    "### 26/05/21"
   ]
  },
  {
   "cell_type": "markdown",
   "id": "reported-marathon",
   "metadata": {
    "slideshow": {
     "slide_type": "slide"
    }
   },
   "source": [
    "# Context"
   ]
  },
  {
   "cell_type": "markdown",
   "id": "chicken-calibration",
   "metadata": {
    "slideshow": {
     "slide_type": "slide"
    }
   },
   "source": [
    "# Problem"
   ]
  },
  {
   "cell_type": "markdown",
   "id": "offensive-coupon",
   "metadata": {
    "slideshow": {
     "slide_type": "slide"
    }
   },
   "source": [
    "# Other approaches"
   ]
  },
  {
   "cell_type": "markdown",
   "id": "crude-cycling",
   "metadata": {
    "slideshow": {
     "slide_type": "slide"
    }
   },
   "source": [
    "# Ideas"
   ]
  },
  {
   "cell_type": "markdown",
   "id": "royal-class",
   "metadata": {
    "slideshow": {
     "slide_type": "slide"
    }
   },
   "source": [
    "Ideas for gate estimation:\n",
    "\n",
    "* Gates estimated in state vector:\n",
    "    * Estimate gate numbers\n",
    "    * Estimate destination location\n",
    "    * Estimate score for each gate\n",
    "* Gates estimated outside state vector:\n",
    "    * Train model based on agents' x-y coordinate history (in this case, a linear model would probably be appropriate)"
   ]
  }
 ],
 "metadata": {
  "celltoolbar": "Slideshow",
  "kernelspec": {
   "display_name": "Python 3",
   "language": "python",
   "name": "python3"
  },
  "language_info": {
   "codemirror_mode": {
    "name": "ipython",
    "version": 3
   },
   "file_extension": ".py",
   "mimetype": "text/x-python",
   "name": "python",
   "nbconvert_exporter": "python",
   "pygments_lexer": "ipython3",
   "version": "3.9.2"
  }
 },
 "nbformat": 4,
 "nbformat_minor": 5
}
