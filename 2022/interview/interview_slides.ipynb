{
 "cells": [
  {
   "cell_type": "markdown",
   "id": "temporal-meaning",
   "metadata": {
    "slideshow": {
     "slide_type": "slide"
    }
   },
   "source": [
    "# Interview: Research Fellow in Real-Time Agent-Based Modelling\n",
    "\n",
    "### Keiran Suchak\n",
    "\n",
    "### 09/05/22"
   ]
  },
  {
   "cell_type": "markdown",
   "id": "applicable-while",
   "metadata": {
    "slideshow": {
     "slide_type": "skip"
    }
   },
   "source": [
    "# Suggested work\n",
    "\n",
    "* System: pedestrian system\n",
    "* Data assimilation method: EnKF\n",
    "* Have used EnKF before for PhD work which focused on using it with ABM of Grand Central Station\n",
    "* Previous work using real-world data has used the PF\n",
    "* This is computationally very expensive - the EnKF is less expensive"
   ]
  },
  {
   "cell_type": "markdown",
   "id": "latin-republican",
   "metadata": {
    "slideshow": {
     "slide_type": "slide"
    }
   },
   "source": [
    "# General suggestion"
   ]
  },
  {
   "cell_type": "markdown",
   "id": "ideal-studio",
   "metadata": {
    "slideshow": {
     "slide_type": "skip"
    }
   },
   "source": [
    "* Much previous work with StationSim_GCS has focused on using synthetic data in the data assimilation process (Malleson et. al., 2020; Clay et. al. 2020, 2021)."
   ]
  },
  {
   "cell_type": "markdown",
   "id": "convenient-procurement",
   "metadata": {
    "slideshow": {
     "slide_type": "skip"
    }
   },
   "source": [
    "* Other work has highlighted that this may not capture the complexity of pedestrian behaviour (Ternes et. al., 2021)."
   ]
  },
  {
   "cell_type": "markdown",
   "id": "organized-vitamin",
   "metadata": {
    "slideshow": {
     "slide_type": "fragment"
    }
   },
   "source": [
    "* Simulate a pedestrian system using Agent-Based Model."
   ]
  },
  {
   "cell_type": "markdown",
   "id": "compact-raleigh",
   "metadata": {
    "slideshow": {
     "slide_type": "fragment"
    }
   },
   "source": [
    "* Generally prefer to work with an existing model to reduce model development time."
   ]
  },
  {
   "cell_type": "markdown",
   "id": "duplicate-maximum",
   "metadata": {
    "slideshow": {
     "slide_type": "fragment"
    }
   },
   "source": [
    "* Use Ensemble Kalman Filter to update model state (pedestrian locations and unobserved parameters) with real-world observations."
   ]
  },
  {
   "cell_type": "markdown",
   "id": "whole-reason",
   "metadata": {
    "slideshow": {
     "slide_type": "slide"
    }
   },
   "source": [
    "# Suggestion 1: Continue work with StationSim_GCS"
   ]
  },
  {
   "cell_type": "markdown",
   "id": "transparent-money",
   "metadata": {
    "slideshow": {
     "slide_type": "fragment"
    }
   },
   "source": [
    "## Suggested work"
   ]
  },
  {
   "cell_type": "markdown",
   "id": "integral-tournament",
   "metadata": {
    "slideshow": {
     "slide_type": "fragment"
    }
   },
   "source": [
    "* Simulate pedestrians moving around the concourse at Grand Central Station (Malleson et. al., 2020; Clay et. al. 2020, 2021; Ternes et. al., 2021)."
   ]
  },
  {
   "cell_type": "markdown",
   "id": "roman-ordinary",
   "metadata": {
    "slideshow": {
     "slide_type": "skip"
    }
   },
   "source": [
    "* Much previous work with StationSim_GCS has focused on using synthetic data in the data assimilation process (Malleson et. al., 2020; Clay et. al. 2020, 2021).\n",
    "* Other work has highlighted that this may not capture the complexity of pedestrian behaviour (Ternes et. al., 2021).\n",
    "* "
   ]
  },
  {
   "cell_type": "markdown",
   "id": "circular-glance",
   "metadata": {
    "slideshow": {
     "slide_type": "fragment"
    }
   },
   "source": [
    "## Model"
   ]
  },
  {
   "cell_type": "markdown",
   "id": "passive-demand",
   "metadata": {
    "slideshow": {
     "slide_type": "fragment"
    }
   },
   "source": [
    "* StationSim_GCS:\n",
    "\n",
    "<img src=\"https://openreseurope.s3.amazonaws.com/manuscripts/15249/1e73682a-ed65-4113-8d85-d9cbf28e6489_figure1.gif\" alt=\"Model of pedestrians at a train station.\" width=\"800\"/>\n",
    "<!-- ![]( \"StationSim_GCS\") -->"
   ]
  },
  {
   "cell_type": "markdown",
   "id": "quantitative-spouse",
   "metadata": {
    "slideshow": {
     "slide_type": "subslide"
    }
   },
   "source": [
    "# Suggestion 1: Continue work with StationSim_GCS"
   ]
  },
  {
   "cell_type": "markdown",
   "id": "regulated-great",
   "metadata": {
    "slideshow": {
     "slide_type": "fragment"
    }
   },
   "source": [
    "## Data"
   ]
  },
  {
   "cell_type": "markdown",
   "id": "civilian-tuition",
   "metadata": {
    "slideshow": {
     "slide_type": "fragment"
    }
   },
   "source": [
    "* Pedestrian traces (Zhou et. al., 2012)"
   ]
  },
  {
   "cell_type": "markdown",
   "id": "favorite-ratio",
   "metadata": {
    "slideshow": {
     "slide_type": "fragment"
    }
   },
   "source": [
    "## Challenges"
   ]
  },
  {
   "cell_type": "markdown",
   "id": "funky-decline",
   "metadata": {
    "slideshow": {
     "slide_type": "fragment"
    }
   },
   "source": [
    "* Improved model/model calibration."
   ]
  },
  {
   "cell_type": "markdown",
   "id": "pointed-customer",
   "metadata": {
    "slideshow": {
     "slide_type": "fragment"
    }
   },
   "source": [
    "* Inferring unobserved model/agent parameters."
   ]
  },
  {
   "cell_type": "markdown",
   "id": "worldwide-princess",
   "metadata": {
    "slideshow": {
     "slide_type": "fragment"
    }
   },
   "source": [
    "* Handling unexpected pedestrian behaviours."
   ]
  },
  {
   "cell_type": "markdown",
   "id": "wooden-ticket",
   "metadata": {
    "slideshow": {
     "slide_type": "slide"
    }
   },
   "source": [
    "# Suggestion 2: Simulating another pedestrian system"
   ]
  },
  {
   "cell_type": "markdown",
   "id": "strong-chuck",
   "metadata": {
    "slideshow": {
     "slide_type": "fragment"
    }
   },
   "source": [
    "## Suggested work"
   ]
  },
  {
   "cell_type": "markdown",
   "id": "arranged-palestinian",
   "metadata": {
    "slideshow": {
     "slide_type": "fragment"
    }
   },
   "source": [
    "* Simulating pedestrians moving along Briggate (Ward et. al. 2016)"
   ]
  },
  {
   "cell_type": "markdown",
   "id": "caring-copying",
   "metadata": {
    "slideshow": {
     "slide_type": "fragment"
    }
   },
   "source": [
    "## Model"
   ]
  },
  {
   "cell_type": "markdown",
   "id": "expanded-orbit",
   "metadata": {
    "slideshow": {
     "slide_type": "fragment"
    }
   },
   "source": [
    "* Take StationSim_GCS as a base code"
   ]
  },
  {
   "cell_type": "markdown",
   "id": "female-killer",
   "metadata": {
    "slideshow": {
     "slide_type": "fragment"
    }
   },
   "source": [
    "* Modify environment"
   ]
  },
  {
   "cell_type": "markdown",
   "id": "legitimate-stability",
   "metadata": {
    "slideshow": {
     "slide_type": "fragment"
    }
   },
   "source": [
    "* Introduce new pedestrian behaviours"
   ]
  },
  {
   "cell_type": "markdown",
   "id": "complimentary-iraqi",
   "metadata": {
    "slideshow": {
     "slide_type": "fragment"
    }
   },
   "source": [
    "## Data"
   ]
  },
  {
   "cell_type": "markdown",
   "id": "oriental-westminster",
   "metadata": {
    "slideshow": {
     "slide_type": "fragment"
    }
   },
   "source": [
    "* Footfall cameras"
   ]
  },
  {
   "cell_type": "markdown",
   "id": "finite-sierra",
   "metadata": {
    "slideshow": {
     "slide_type": "fragment"
    }
   },
   "source": [
    "* Mobile phone data"
   ]
  },
  {
   "cell_type": "markdown",
   "id": "electoral-disability",
   "metadata": {
    "slideshow": {
     "slide_type": "subslide"
    }
   },
   "source": [
    "# Suggestion 2: Simulating another pedestrian system"
   ]
  },
  {
   "cell_type": "markdown",
   "id": "furnished-british",
   "metadata": {
    "slideshow": {
     "slide_type": "fragment"
    }
   },
   "source": [
    "## Challenges"
   ]
  },
  {
   "cell_type": "markdown",
   "id": "express-lighting",
   "metadata": {
    "slideshow": {
     "slide_type": "fragment"
    }
   },
   "source": [
    "* How do we know the ground truth of the system?\n",
    "* How do we evaluate performance?"
   ]
  },
  {
   "cell_type": "markdown",
   "id": "expected-majority",
   "metadata": {
    "slideshow": {
     "slide_type": "fragment"
    }
   },
   "source": [
    "* How do we disaggregate footfall camera data?"
   ]
  },
  {
   "cell_type": "markdown",
   "id": "automated-migration",
   "metadata": {
    "slideshow": {
     "slide_type": "fragment"
    }
   },
   "source": [
    "* Mobile phone data only provides partial coverage of population"
   ]
  },
  {
   "cell_type": "markdown",
   "id": "colonial-quick",
   "metadata": {
    "slideshow": {
     "slide_type": "slide"
    }
   },
   "source": [
    "# References"
   ]
  },
  {
   "cell_type": "markdown",
   "id": "persistent-federation",
   "metadata": {},
   "source": [
    "* Malleson, N., Minors, K., Kieu, L. M., Ward, J. A., West, A., & Heppenstall, A. (2020). Simulating Crowds in Real Time with Agent-Based Modelling and a Particle Filter.\n",
    "* Clay, R., Kieu, L. M., Ward, J. A., Heppenstall, A., & Malleson, N. (2020, October). Towards real-time crowd simulation under uncertainty using an agent-based model and an unscented kalman filter.\n",
    "* Clay, R., Ward, J. A., Ternes, P., Kieu, L. M., & Malleson, N. (2021). Real-time agent-based crowd simulation with the reversible jump unscented kalman filter.\n",
    "* Ternes, P., Ward, J. A., Heppenstall, A., Kumar, V., Kieu, L. M., & Malleson, N. (2021). Data assimilation and agent-based modelling: towards the incorporation of categorical agent parameters.\n",
    "* Zhou, B., Wang, X., & Tang, X. (2012, June). Understanding collective crowd behaviors: Learning a mixture model of dynamic pedestrian-agents.\n",
    "* Ward, J. A., Evans, A. J., & Malleson, N. S. (2016). Dynamic calibration of agent-based models using data assimilation."
   ]
  },
  {
   "cell_type": "code",
   "execution_count": null,
   "id": "sustainable-syracuse",
   "metadata": {
    "slideshow": {
     "slide_type": "skip"
    }
   },
   "outputs": [],
   "source": []
  },
  {
   "cell_type": "markdown",
   "id": "worthy-update",
   "metadata": {
    "slideshow": {
     "slide_type": "skip"
    }
   },
   "source": [
    "# Notes"
   ]
  },
  {
   "cell_type": "markdown",
   "id": "traditional-indiana",
   "metadata": {
    "slideshow": {
     "slide_type": "skip"
    }
   },
   "source": [
    "* The ultimate aim of the DUST project is to develop an agent-based computer simulation that can be used to model social phenomena – such as disease spread, traffic congestion, or crowding in busy public places – in real-time.\n",
    "* The project has had some success in developing algorithms to allow the internal state of an agent-based model to be updated in response to new data at runtime.\n",
    "* The next stage will be to extend this work to modelling a real system.\n",
    "* Your presentation should present some ideas for how you might tackle this problem."
   ]
  },
  {
   "cell_type": "markdown",
   "id": "square-creativity",
   "metadata": {
    "slideshow": {
     "slide_type": "skip"
    }
   },
   "source": [
    "# Notes\n",
    "\n",
    "Things to consider:\n",
    "\n",
    "* What system would you model (the job description mentioned disease spread, traffic congestion, or pedestrian crowding, but you can choose another if you prefer);\n",
    "* What data would you need? \n",
    "* How would you use agent-based modelling to create a model of the system? For example, would you use someone else’s model or build a new one yourself?\n",
    "* Mention how your previous experience in modelling and programming will help you to answer the questions above."
   ]
  }
 ],
 "metadata": {
  "celltoolbar": "Slideshow",
  "kernelspec": {
   "display_name": "Python 3",
   "language": "python",
   "name": "python3"
  },
  "language_info": {
   "codemirror_mode": {
    "name": "ipython",
    "version": 3
   },
   "file_extension": ".py",
   "mimetype": "text/x-python",
   "name": "python",
   "nbconvert_exporter": "python",
   "pygments_lexer": "ipython3",
   "version": "3.9.2"
  }
 },
 "nbformat": 4,
 "nbformat_minor": 5
}
