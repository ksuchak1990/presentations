{
 "cells": [
  {
   "cell_type": "markdown",
   "id": "75e8cedb",
   "metadata": {
    "slideshow": {
     "slide_type": "slide"
    }
   },
   "source": [
    "# Test notebook presentation"
   ]
  },
  {
   "cell_type": "markdown",
   "id": "44a7102e",
   "metadata": {
    "slideshow": {
     "slide_type": "slide"
    }
   },
   "source": [
    "# Next slide"
   ]
  }
 ],
 "metadata": {
  "celltoolbar": "Slideshow",
  "kernelspec": {
   "display_name": "Python 3",
   "language": "python",
   "name": "python3"
  },
  "language_info": {
   "codemirror_mode": {
    "name": "ipython",
    "version": 3
   },
   "file_extension": ".py",
   "mimetype": "text/x-python",
   "name": "python",
   "nbconvert_exporter": "python",
   "pygments_lexer": "ipython3",
   "version": "3.9.4"
  },
  "rise": {
   "header": "<img src='UoL.png' width='25%' align='right'>"
  }
 },
 "nbformat": 4,
 "nbformat_minor": 5
}
